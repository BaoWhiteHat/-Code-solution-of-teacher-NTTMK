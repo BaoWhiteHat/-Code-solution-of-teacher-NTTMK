{
  "nbformat": 4,
  "nbformat_minor": 0,
  "metadata": {
    "colab": {
      "provenance": [],
      "collapsed_sections": [
        "YkTToDPoAfDO",
        "zgdfWCCaHfJ9"
      ],
      "include_colab_link": true
    },
    "kernelspec": {
      "name": "python3",
      "display_name": "Python 3"
    },
    "language_info": {
      "name": "python"
    }
  },
  "cells": [
    {
      "cell_type": "markdown",
      "metadata": {
        "id": "view-in-github",
        "colab_type": "text"
      },
      "source": [
        "<a href=\"https://colab.research.google.com/github/BaoWhiteHat/-Code-solution-of-teacher-NTTMK/blob/main/LAB_3_EN.ipynb\" target=\"_parent\"><img src=\"https://colab.research.google.com/assets/colab-badge.svg\" alt=\"Open In Colab\"/></a>"
      ]
    },
    {
      "cell_type": "markdown",
      "source": [
        "![Logo](https://www.uit.edu.vn/sites/vi/files/resize/images/Logos/Logo_UIT_Web_Transparent-218x261.png)\n",
        "\n",
        "**Please clone this notebook into your own Google Drive. DO NOT EDIT or RUN CELL IN THIS NOTEBOOK!**\n",
        "\n",
        "# **STUDENT INFORMATION**\n",
        "\n",
        "**Full name**: Hoang-Loc Tran\n",
        "\n",
        "**Student ID**: 13520462\n",
        "\n",
        "**Class**:: CSBU108.O21"
      ],
      "metadata": {
        "id": "em7sxmWMznTE"
      }
    },
    {
      "cell_type": "markdown",
      "source": [
        "# **0. Write and Combine C program**"
      ],
      "metadata": {
        "id": "YkTToDPoAfDO"
      }
    },
    {
      "cell_type": "code",
      "source": [
        "%%writefile sample.cpp\n",
        "\n",
        "#include <stdio.h>\n",
        "#define NAME \"LUCAS\"\n",
        "\n",
        "int main()\n",
        "{\n",
        "    printf(\"Hello world, %s!\", NAME); // In dong chu \"Hello world\"\n",
        "\n",
        "    return 0;\n",
        "}"
      ],
      "metadata": {
        "colab": {
          "base_uri": "https://localhost:8080/"
        },
        "id": "uxb799jx17ak",
        "outputId": "8039ab5e-2059-42a9-a2df-a08dee09cfd0"
      },
      "execution_count": null,
      "outputs": [
        {
          "output_type": "stream",
          "name": "stdout",
          "text": [
            "Overwriting sample.cpp\n"
          ]
        }
      ]
    },
    {
      "cell_type": "markdown",
      "source": [
        "Compile file sample.cpp and then run it using shell command."
      ],
      "metadata": {
        "id": "JZCBEonQ4yF4"
      }
    },
    {
      "cell_type": "code",
      "source": [
        "!g++ sample.cpp -o sample\n",
        "!./sample"
      ],
      "metadata": {
        "colab": {
          "base_uri": "https://localhost:8080/"
        },
        "id": "c4H_0NBy20HI",
        "outputId": "39763525-5e91-405c-9a4d-674aa9a0d0f1"
      },
      "execution_count": null,
      "outputs": [
        {
          "output_type": "stream",
          "name": "stdout",
          "text": [
            "Hello world, LUCAS!"
          ]
        }
      ]
    },
    {
      "cell_type": "markdown",
      "source": [
        "**Example about command line arguments in C**"
      ],
      "metadata": {
        "id": "xSdnjYmmcDDw"
      }
    },
    {
      "cell_type": "code",
      "source": [
        "%%writefile test_arg.cpp\n",
        "\n",
        "#include <stdio.h>\n",
        "#include <stdlib.h>\n",
        "\n",
        "int main(int argc, char* argv[])\n",
        "{\n",
        "    if (argc < 2)\n",
        "    {\n",
        "        printf(\"We cannot find the name from command line!\");\n",
        "    }\n",
        "    else\n",
        "        printf(\"Hello world, %s %s\\n\", argv[1], argv[2]);\n",
        "    return 0;\n",
        "}"
      ],
      "metadata": {
        "colab": {
          "base_uri": "https://localhost:8080/"
        },
        "id": "MOn1Tk4bcICy",
        "outputId": "c5be825d-2235-4abe-deea-995623947008"
      },
      "execution_count": null,
      "outputs": [
        {
          "output_type": "stream",
          "name": "stdout",
          "text": [
            "Overwriting test_arg.cpp\n"
          ]
        }
      ]
    },
    {
      "cell_type": "code",
      "source": [
        "!g++ test_arg.cpp -o test_arg\n",
        "!./test_arg"
      ],
      "metadata": {
        "colab": {
          "base_uri": "https://localhost:8080/"
        },
        "id": "PWVr3ulqdGKb",
        "outputId": "b1035fca-d170-49f0-b436-def26c432654"
      },
      "execution_count": null,
      "outputs": [
        {
          "output_type": "stream",
          "name": "stdout",
          "text": [
            "We cannot find the name from command line!"
          ]
        }
      ]
    },
    {
      "cell_type": "code",
      "source": [
        "!./test_arg \"Lucas Tran\""
      ],
      "metadata": {
        "colab": {
          "base_uri": "https://localhost:8080/"
        },
        "id": "PkzQztZBdRQL",
        "outputId": "a3e7915a-812d-432c-d4e7-a63ef11c47ae"
      },
      "execution_count": null,
      "outputs": [
        {
          "output_type": "stream",
          "name": "stdout",
          "text": [
            "Hello world, Lucas Tran (null)\n"
          ]
        }
      ]
    },
    {
      "cell_type": "markdown",
      "source": [
        "# **1. Process Creation**\n"
      ],
      "metadata": {
        "id": "aP2BNJekAlT9"
      }
    },
    {
      "cell_type": "markdown",
      "source": [
        "## **1.1. Create process with `fork()`**"
      ],
      "metadata": {
        "id": "zgdfWCCaHfJ9"
      }
    },
    {
      "cell_type": "code",
      "source": [
        "%%writefile test_fork.cpp\n",
        "\n",
        "#include <stdio.h>\n",
        "#include <stdlib.h>\n",
        "#include <unistd.h>\n",
        "#include <sys/wait.h>\n",
        "#include <sys/types.h>\n",
        "\n",
        "int main(int argc, char* argv[])\n",
        "{\n",
        "    __pid_t pid;\n",
        "    pid = fork();\n",
        "\n",
        "    if (pid > 0)\n",
        "    {\n",
        "        printf(\"PARENTS | PID = %ld | PPID = %ld\\n\",\n",
        "        (long)getpid(), (long)getppid());\n",
        "\n",
        "        if (argc > 2)\n",
        "        {\n",
        "            printf(\"PARENTS | There are %d arguments\\n\", argc - 1);\n",
        "            wait(NULL);\n",
        "        }\n",
        "    }\n",
        "    if (pid == 0)\n",
        "    {\n",
        "        printf(\"CHILDREN | PID = %ld | PPID = %ld\\n\",\n",
        "        (long)getpid(), (long)getppid());\n",
        "\n",
        "        printf(\"CHILDREN | List of arguments: \\n\");\n",
        "\n",
        "        for (int i = 1; i < argc; i++)\n",
        "        {\n",
        "            printf(\"%s\\n\", argv[i]);\n",
        "        }\n",
        "    }\n",
        "\n",
        "    return 0;\n",
        "}"
      ],
      "metadata": {
        "colab": {
          "base_uri": "https://localhost:8080/"
        },
        "id": "wRrc7xOOAr0y",
        "outputId": "d112ff71-09ce-4a8a-d9fd-1fee7a13a55b"
      },
      "execution_count": null,
      "outputs": [
        {
          "output_type": "stream",
          "name": "stdout",
          "text": [
            "Writing test_fork.cpp\n"
          ]
        }
      ]
    },
    {
      "cell_type": "code",
      "source": [
        "!g++ test_fork.cpp -o test_fork\n",
        "!./test_fork ThamSo1 ThamSo2 ThamSo3"
      ],
      "metadata": {
        "colab": {
          "base_uri": "https://localhost:8080/"
        },
        "id": "uvm7gTldB__i",
        "outputId": "d9bb4efc-9d25-4335-bc5a-8178ebf367ec"
      },
      "execution_count": null,
      "outputs": [
        {
          "output_type": "stream",
          "name": "stdout",
          "text": [
            "PARENTS | PID = 15574 | PPID = 428\n",
            "PARENTS | There are 3 arguments\n",
            "CHILDREN | PID = 15575 | PPID = 15574\n",
            "CHILDREN | List of arguments: \n",
            "ThamSo1\n",
            "ThamSo2\n",
            "ThamSo3\n"
          ]
        }
      ]
    },
    {
      "cell_type": "markdown",
      "source": [
        "## **1.2. Create process with `exec()`**\n",
        "\n"
      ],
      "metadata": {
        "id": "W5ThcttjG6mX"
      }
    },
    {
      "cell_type": "markdown",
      "source": [
        "**Firstly, create `count.sh` which do following tasks:**\n",
        "\n",
        "*   Print process name\n",
        "*   Print PPID (parent's process ID)\n",
        "*   Count from 1 to $1 while printing numbers to `count.txt`\n",
        "\n",
        "*Notes: the command `ps -ef | grep count.sh` lists all processes and then find which line (process' info) contains string \"count.sh\". This command helps us find information (PID and PPID) of process `./count.sh`*\n",
        "\n"
      ],
      "metadata": {
        "id": "g6pEMoapJlu0"
      }
    },
    {
      "cell_type": "code",
      "source": [
        "%%writefile count.sh\n",
        "\n",
        "#!/bin/bash\n",
        "\n",
        "echo \"Implementing: $0\"\n",
        "echo \"PPID of count.sh: \"\n",
        "ps -ef | grep count.sh\n",
        "\n",
        "i=1\n",
        "\n",
        "while [ $i -le $1 ]\n",
        "do\n",
        "    echo $i >> count.txt\n",
        "    i=$((i + 1))\n",
        "    sleep 1\n",
        "done\n",
        "\n",
        "exit 0"
      ],
      "metadata": {
        "colab": {
          "base_uri": "https://localhost:8080/"
        },
        "id": "-gKkNMJYHDNm",
        "outputId": "6b70377d-d32b-4609-cf95-4e7c132e7aa9"
      },
      "execution_count": null,
      "outputs": [
        {
          "output_type": "stream",
          "name": "stdout",
          "text": [
            "Writing count.sh\n"
          ]
        }
      ]
    },
    {
      "cell_type": "markdown",
      "source": [
        "We have to grant execution permission to count.sh in order to execute it. We only do this once."
      ],
      "metadata": {
        "id": "m9hLGJ5Sx3zA"
      }
    },
    {
      "cell_type": "code",
      "source": [
        "!chmod 755 count.sh"
      ],
      "metadata": {
        "id": "YWNNDfNnKt4S"
      },
      "execution_count": null,
      "outputs": []
    },
    {
      "cell_type": "markdown",
      "source": [
        "Run the script (with $1 = 20) and check result if count.txt is created/updated."
      ],
      "metadata": {
        "id": "x3MFDlJvyBs2"
      }
    },
    {
      "cell_type": "code",
      "source": [
        "!./count.sh 20"
      ],
      "metadata": {
        "colab": {
          "base_uri": "https://localhost:8080/"
        },
        "id": "KXrg98GFKxU3",
        "outputId": "c1b697e0-31d0-4a42-e603-7dced8a98665"
      },
      "execution_count": null,
      "outputs": [
        {
          "output_type": "stream",
          "name": "stdout",
          "text": [
            "Implementing: ./count.sh\n",
            "PPID of count.sh: \n",
            "root       19761     428  0 03:56 ?        00:00:00 /bin/bash -c ./count.sh 20\n",
            "root       19763   19761  0 03:56 ?        00:00:00 grep count.sh\n"
          ]
        }
      ]
    },
    {
      "cell_type": "markdown",
      "source": [
        "**Create `test_execl.cpp`, compile and run it**"
      ],
      "metadata": {
        "id": "evj70BQeMOy9"
      }
    },
    {
      "cell_type": "code",
      "source": [
        "%%writefile test_execl.cpp\n",
        "\n",
        "#include <stdio.h>\n",
        "#include <stdlib.h>\n",
        "#include <unistd.h>\n",
        "#include <sys/wait.h>\n",
        "#include <sys/types.h>\n",
        "\n",
        "int main(int argc, char* argv[])\n",
        "{\n",
        "    __pid_t pid;\n",
        "    pid = fork();\n",
        "    if (pid > 0)\n",
        "    {\n",
        "        printf(\"PARENTS | PID = %ld | PPID = %ld\\n\",\n",
        "        (long)getpid(), (long)getppid());\n",
        "\n",
        "        if (argc > 2)\n",
        "            printf(\"PARENTS | There are %d arguments\\n\",\n",
        "            argc - 1);\n",
        "        wait(NULL);\n",
        "    }\n",
        "    if (pid == 0)\n",
        "    {\n",
        "        execlp(\"./count.sh\", \"./count.sh\", \"10\", NULL);\n",
        "\n",
        "        printf(\"CHILDREN | PID = %ld | PPID = %ld\\n\",\n",
        "        (long)getpid(), (long)getppid());\n",
        "\n",
        "        printf(\"CHILDREN | List of arguments: \\n\");\n",
        "\n",
        "        for (int i = 1; i < argc; i++)\n",
        "        {\n",
        "            printf(\"%s\\n\", argv[i]);\n",
        "        }\n",
        "    }\n",
        "\n",
        "    return 0;\n",
        "}\n"
      ],
      "metadata": {
        "colab": {
          "base_uri": "https://localhost:8080/"
        },
        "id": "q9k7nfZAMS4J",
        "outputId": "1bf59d25-cb7b-42ad-8925-52901fe16516"
      },
      "execution_count": null,
      "outputs": [
        {
          "output_type": "stream",
          "name": "stdout",
          "text": [
            "Writing test_execl.cpp\n"
          ]
        }
      ]
    },
    {
      "cell_type": "code",
      "source": [
        "!g++ test_execl.cpp -o test_execl\n",
        "!./test_execl ThamSo1 ThamSo2"
      ],
      "metadata": {
        "colab": {
          "base_uri": "https://localhost:8080/"
        },
        "id": "55WlLAeCPybF",
        "outputId": "0828f9c8-29a4-4d81-d43a-9c30a82745f3"
      },
      "execution_count": null,
      "outputs": [
        {
          "output_type": "stream",
          "name": "stdout",
          "text": [
            "PARENTS | PID = 20284 | PPID = 428\n",
            "PARENTS | There are 2 arguments\n",
            "Implementing: ./count.sh\n",
            "PPID of count.sh: \n",
            "root       20285   20284  0 03:58 ?        00:00:00 /bin/sh ./count.sh 10\n",
            "root       20287   20285  0 03:58 ?        00:00:00 /bin/sh ./count.sh 10\n"
          ]
        }
      ]
    },
    {
      "cell_type": "markdown",
      "source": [
        "## **1.3. Create process with `system()`**"
      ],
      "metadata": {
        "id": "5Namar0DTAr7"
      }
    },
    {
      "cell_type": "markdown",
      "source": [
        "**Create `test_system.cpp`, compile and run it**"
      ],
      "metadata": {
        "id": "q0QQtoqI5Az4"
      }
    },
    {
      "cell_type": "code",
      "source": [
        "%%writefile test_system.cpp\n",
        "\n",
        "#include <stdio.h>\n",
        "#include <stdlib.h>\n",
        "#include <unistd.h>\n",
        "#include <sys/wait.h>\n",
        "#include <sys/types.h>\n",
        "\n",
        "int main(int argc, char* argv[])\n",
        "{\n",
        "    printf(\"PARENTS | PID = %ld | PPID = %ld\\n\",\n",
        "    (long)getpid(), (long)getppid());\n",
        "\n",
        "    if (argc > 2)\n",
        "        printf(\"PARENTS | There are %d arguments\\n\", argc\n",
        "        - 1);\n",
        "\n",
        "    system(\"./count.sh 10\");\n",
        "\n",
        "    printf(\"PARENTS | List of arguments: \\n\");\n",
        "\n",
        "    for (int i = 1; i < argc; i++)\n",
        "    {\n",
        "        printf(\"%s\\n\", argv[i]);\n",
        "    }\n",
        "\n",
        "    return 0;\n",
        "}"
      ],
      "metadata": {
        "colab": {
          "base_uri": "https://localhost:8080/"
        },
        "id": "ysATuEqkTEUO",
        "outputId": "bdfd763d-5660-4438-c6a9-f655f05dd20f"
      },
      "execution_count": null,
      "outputs": [
        {
          "output_type": "stream",
          "name": "stdout",
          "text": [
            "Overwriting test_system.cpp\n"
          ]
        }
      ]
    },
    {
      "cell_type": "code",
      "source": [
        "!g++ test_system.cpp -o test_system\n",
        "!./test_system ThamSo1 ThamSo2 ThamSo3"
      ],
      "metadata": {
        "colab": {
          "base_uri": "https://localhost:8080/"
        },
        "id": "Qh-BM4igThbr",
        "outputId": "646a4216-676f-4b95-b452-91cf66b3819e"
      },
      "execution_count": null,
      "outputs": [
        {
          "output_type": "stream",
          "name": "stdout",
          "text": [
            "PARENTS | PID = 26936 | PPID = 26787\n",
            "PARENTS | There are 3 arguments\n",
            "Implementing: ./count.sh\n",
            "PPID of count.sh: \n",
            "root       26937   26936  0 04:26 ?        00:00:00 sh -c ./count.sh 10\n",
            "root       26938   26937  0 04:26 ?        00:00:00 /bin/sh ./count.sh 10\n",
            "root       26940   26938  0 04:26 ?        00:00:00 grep count.sh\n",
            "PARENTS | List of arguments: \n",
            "ThamSo1\n",
            "ThamSo2\n",
            "ThamSo3\n"
          ]
        }
      ]
    },
    {
      "cell_type": "markdown",
      "source": [
        "# **2. Inter-Process Communication: Message passing**\n"
      ],
      "metadata": {
        "id": "moBb9nGUDuMs"
      }
    },
    {
      "cell_type": "code",
      "source": [
        "%%writefile test_pipe.cpp\n",
        "\n",
        "#include <stdio.h>\n",
        "#include <unistd.h>\n",
        "#include <string.h>\n",
        "#include <sys/types.h>\n",
        "#include <sys/wait.h>\n",
        "\n",
        "int main() {\n",
        "    int pipefd[2];\n",
        "    pid_t pid;\n",
        "    char write_msg[] = \"Hello from parent\";\n",
        "    char read_msg[100];\n",
        "\n",
        "    // Create the pipe\n",
        "    if (pipe(pipefd) == -1) {\n",
        "        perror(\"pipe\");\n",
        "        return 1;\n",
        "    }\n",
        "\n",
        "    // Fork a child process\n",
        "    pid = fork();\n",
        "    if (pid == -1) {\n",
        "        perror(\"fork\");\n",
        "        return 1;\n",
        "    }\n",
        "\n",
        "    if (pid == 0) {\n",
        "        // Child process\n",
        "        close(pipefd[1]); // Close the write end\n",
        "\n",
        "        // Read the message from the pipe\n",
        "        read(pipefd[0], read_msg, sizeof(read_msg));\n",
        "        printf(\"Child process received message: %s\\n\", read_msg);\n",
        "\n",
        "        close(pipefd[0]); // Close the read end\n",
        "    } else {\n",
        "        // Parent process\n",
        "        close(pipefd[0]); // Close the read end\n",
        "\n",
        "        // Write the message to the pipe\n",
        "        write(pipefd[1], write_msg, strlen(write_msg) + 1);\n",
        "\n",
        "        close(pipefd[1]); // Close the write end\n",
        "\n",
        "        // Wait for the child process to finish\n",
        "        wait(NULL);\n",
        "    }\n",
        "\n",
        "    return 0;\n",
        "}"
      ],
      "metadata": {
        "colab": {
          "base_uri": "https://localhost:8080/"
        },
        "id": "yaEZgLxUEBJt",
        "outputId": "0c445ebc-877e-466b-ff65-0c93d410a2de"
      },
      "execution_count": null,
      "outputs": [
        {
          "output_type": "stream",
          "name": "stdout",
          "text": [
            "Overwriting test_pipe.cpp\n"
          ]
        }
      ]
    },
    {
      "cell_type": "code",
      "source": [
        "!g++ test_pipe.cpp -o test_pipe\n",
        "!./test_pipe"
      ],
      "metadata": {
        "colab": {
          "base_uri": "https://localhost:8080/"
        },
        "id": "yuWsFwfeEW7Y",
        "outputId": "2b125a37-bdf2-4ef5-8cf2-7b27afaf525c"
      },
      "execution_count": null,
      "outputs": [
        {
          "output_type": "stream",
          "name": "stdout",
          "text": [
            "Child process received message: Hello from parent\n"
          ]
        }
      ]
    },
    {
      "cell_type": "markdown",
      "source": [
        "# **ANSWERS**"
      ],
      "metadata": {
        "id": "mdHzBRkWhJLF"
      }
    },
    {
      "cell_type": "markdown",
      "source": [
        "## **Classwork 01**"
      ],
      "metadata": {
        "id": "_U_1XfcNhNUz"
      }
    },
    {
      "cell_type": "markdown",
      "source": [
        "## **Classwork 02**"
      ],
      "metadata": {
        "id": "E9sHFxSjhQaX"
      }
    },
    {
      "cell_type": "markdown",
      "source": [
        "## **Classwork 03**"
      ],
      "metadata": {
        "id": "9rQ2BcHRhUs6"
      }
    },
    {
      "cell_type": "markdown",
      "source": [
        "## **Classwork 04**"
      ],
      "metadata": {
        "id": "u5sn0H3ihVqS"
      }
    }
  ]
}